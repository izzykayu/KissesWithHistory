{
 "cells": [
  {
   "cell_type": "code",
   "execution_count": 6,
   "metadata": {},
   "outputs": [
    {
     "name": "stdout",
     "output_type": "stream",
     "text": [
      "datasets uploaded!\n"
     ]
    }
   ],
   "source": [
    "import numpy as np # linear algebra\n",
    "import pandas as pd # data processing\n",
    "import os\n",
    "from keras.layers import Dense,Input,LSTM,Bidirectional,Activation,Conv1D,GRU\n",
    "from keras.callbacks import Callback\n",
    "from keras.layers import Dropout,Embedding,GlobalMaxPooling1D, MaxPooling1D, Add, Flatten\n",
    "from keras.preprocessing import text, sequence\n",
    "from keras.layers import GlobalAveragePooling1D, GlobalMaxPooling1D, concatenate, SpatialDropout1D\n",
    "from keras import initializers, regularizers, constraints, optimizers, layers, callbacks\n",
    "from keras.callbacks import EarlyStopping,ModelCheckpoint\n",
    "from keras.models import Model\n",
    "from keras.optimizers import Adam\n",
    "from sklearn.model_selection import train_test_split\n",
    "from sklearn import metrics\n",
    "\n",
    "EMBEDDING_FILE = '/Users/isabelmetzger/PycharmProjects/BMSC-GA-4493-Spring2018/lab_0322/glove.840B.300d.txt'\n",
    "train = pd.read_csv(\"/Users/isabelmetzger/PycharmProjects/n2c2/LSTM_BASELINES/data/train_May4th_binary.csv\")\n",
    "\n",
    "y_train = train[[\"ABDOMINAL\",\"ADVANCED_CAD\",\"ALCOHOL_ABUSE\",\n",
    "               \"ASP_FOR_MI\",\"CREATININE\",\"DIETSUPP_2MOS\",\n",
    "               \"DRUG_ABUSE\",\"ENGLISH\",\"HBA1C\",\"KETO_1YR\",\n",
    "               \"MAJOR_DIABETES\", \"MAKES_DECISIONS\", \"MI_6MOS\"]].values\n",
    "\n",
    "val = pd.read_csv(\"/Users/isabelmetzger/PycharmProjects/n2c2/LSTM_BASELINES/data/test_May4th_binary.csv\")\n",
    "y_val = val[[\"ABDOMINAL\",\"ADVANCED_CAD\",\"ALCOHOL_ABUSE\",\n",
    "               \"ASP_FOR_MI\",\"CREATININE\",\"DIETSUPP_2MOS\",\n",
    "               \"DRUG_ABUSE\",\"ENGLISH\",\"HBA1C\",\"KETO_1YR\",\n",
    "               \"MAJOR_DIABETES\", \"MAKES_DECISIONS\", \"MI_6MOS\"]].values\n",
    "test = pd.read_csv(\"/Users/isabelmetzger/Downloads/validation.csv\")\n",
    "\n",
    "print(\"datasets uploaded!\")\n",
    "\n",
    "import re\n",
    "def clean_text(text):\n",
    "    text = text.lower()\n",
    "    text = re.sub(r\"\\'s\", \" \", text)\n",
    "    text = re.sub(r\"can't\", \"cannot \", text)\n",
    "    text = re.sub(r\"n't\", \" not \", text)\n",
    "    text = re.sub('\\W', ' ', text)\n",
    "    text = re.sub('\\s+', ' ', text)\n",
    "    text = text.strip(' ')\n",
    "    return text\n",
    "\n",
    "X_train = train[\"text\"].map(lambda com : clean_text(com))\n",
    "# y_train = train[['ABDOMINAL', 'ADVANCED.CAD', 'CREATININE', 'HBA1C',\n",
    "#                  'MAJOR.DIABETES', 'MI.6MOS']].values\n",
    "\n",
    "X_val = val[\"text\"].map(lambda com : clean_text(com))\n",
    "X_test = test[\"textdata\"].map(lambda com : clean_text(com))\n",
    "# y_test = test[['ABDOMINAL', 'ADVANCED.CAD', 'CREATININE', 'HBA1C',\n",
    "#                  'MAJOR.DIABETES', 'MI.6MOS']].values\n",
    "\n",
    "max_features=28160\n",
    "maxlen=21500\n",
    "embed_size=300\n",
    "#21583\n",
    "\n",
    "class RocAucEvaluation(Callback):\n",
    "    def __init__(self, validation_data=(), interval=1):\n",
    "        super(Callback, self).__init__()\n",
    "\n",
    "        self.interval = interval\n",
    "        self.X_val, self.y_val = validation_data\n",
    "\n",
    "    def on_epoch_end(self, epoch, logs={}):\n",
    "        if epoch % self.interval == 0:\n",
    "            y_pred = self.model.predict(self.X_val, verbose=0)\n",
    "            score = roc_auc_score(self.y_val, y_pred)\n",
    "            f1_score = metrics.f1_score(self.y_val, y_pred)\n",
    "            print(\"\\n ROC-AUC - epoch: {:d} - roc acc score: {:.6f}\".format(epoch+1, score))\n",
    "            print(\"\\n F1 score - epoch: {:d} - F1 score: {:.6f}\".format(epoch+1, f1_score))\n",
    "            \n",
    "tok=text.Tokenizer(num_words=max_features,lower=False)\n",
    "tok.fit_on_texts(list(X_train)+ list(X_val) + list(X_test))\n",
    "X_train=tok.texts_to_sequences(X_train)\n",
    "X_val=tok.texts_to_sequences(X_val)\n",
    "X_test=tok.texts_to_sequences(X_test)\n",
    "x_train=sequence.pad_sequences(X_train,maxlen=maxlen)\n",
    "x_val=sequence.pad_sequences(X_val, maxlen=maxlen)\n",
    "x_test=sequence.pad_sequences(X_test,maxlen=maxlen)"
   ]
  },
  {
   "cell_type": "code",
   "execution_count": 7,
   "metadata": {},
   "outputs": [
    {
     "name": "stdout",
     "output_type": "stream",
     "text": [
      "embedding file downloaded!\n"
     ]
    }
   ],
   "source": [
    "embeddings_index = {}\n",
    "with open(EMBEDDING_FILE,encoding='utf8') as f:\n",
    "    for line in f:\n",
    "        values = line.rstrip().rsplit(' ')\n",
    "        word = values[0]\n",
    "        coefs = np.asarray(values[1:], dtype='float32')\n",
    "        embeddings_index[word] = coefs\n",
    "        \n",
    "print(\"embedding file downloaded!\")"
   ]
  },
  {
   "cell_type": "code",
   "execution_count": null,
   "metadata": {},
   "outputs": [],
   "source": [
    "len(tok.word_index)"
   ]
  },
  {
   "cell_type": "code",
   "execution_count": null,
   "metadata": {},
   "outputs": [],
   "source": [
    " # 21582\n",
    "word_index = tok.word_index\n",
    "print(len(word_index))\n",
    "num_words = min(max_features, len(word_index) + 1)\n",
    "print(num_words)  # 10000"
   ]
  },
  {
   "cell_type": "code",
   "execution_count": 7,
   "metadata": {},
   "outputs": [],
   "source": [
    "word_index = tok.word_index\n",
    "#prepare embedding matrix\n",
    "num_words = min(max_features, len(word_index) + 1)\n",
    "embedding_matrix = np.zeros((num_words, embed_size))\n",
    "for word, i in word_index.items():\n",
    "    if i >= max_features:\n",
    "        continue\n",
    "    embedding_vector = embeddings_index.get(word)\n",
    "    if embedding_vector is not None:\n",
    "        # words not found in embedding index will be all-zeros.\n",
    "        embedding_matrix[i] = embedding_vector\n",
    "\n",
    "print(embedding_matrix.size)  # 8448000\n",
    "\n",
    "\n",
    "embedding_matrix.shape  # (28160, 300)"
   ]
  },
  {
   "cell_type": "code",
   "execution_count": 10,
   "metadata": {},
   "outputs": [],
   "source": [
    "from keras.layers import K, Activation\n",
    "from keras.engine import Layer\n",
    "from keras.layers import Dense, Input, Embedding, Dropout, Bidirectional, GRU, Flatten, SpatialDropout1D\n",
    "gru_len = 128\n",
    "Routings = 5\n",
    "Num_capsule = 10\n",
    "Dim_capsule = 16\n",
    "dropout_p = 0.25\n",
    "rate_drop_dense = 0.5\n",
    "\n",
    "def squash(x, axis=-1):\n",
    "    # s_squared_norm is really small\n",
    "    # s_squared_norm = K.sum(K.square(x), axis, keepdims=True) + K.epsilon()\n",
    "    # scale = K.sqrt(s_squared_norm)/ (0.5 + s_squared_norm)\n",
    "    # return scale * x\n",
    "    s_squared_norm = K.sum(K.square(x), axis, keepdims=True)\n",
    "    scale = K.sqrt(s_squared_norm + K.epsilon())\n",
    "    return x / scale\n",
    "\n",
    "import keras.backend as K\n",
    "\n",
    "# def f1_score(y_true, y_pred):\n",
    "#     return %precision\n",
    "\n",
    "# A Capsule Implement with Pure Keras\n",
    "class Capsule(Layer):\n",
    "    def __init__(self, num_capsule, dim_capsule, routings=3, kernel_size=(9, 1), share_weights=True,\n",
    "                 activation='default', **kwargs):\n",
    "        super(Capsule, self).__init__(**kwargs)\n",
    "        self.num_capsule = num_capsule\n",
    "        self.dim_capsule = dim_capsule\n",
    "        self.routings = routings\n",
    "        self.kernel_size = kernel_size\n",
    "        self.share_weights = share_weights\n",
    "        if activation == 'default':\n",
    "            self.activation = squash\n",
    "        else:\n",
    "            self.activation = Activation(activation)\n",
    "\n",
    "    def build(self, input_shape):\n",
    "        super(Capsule, self).build(input_shape)\n",
    "        input_dim_capsule = input_shape[-1]\n",
    "        if self.share_weights:\n",
    "            self.W = self.add_weight(name='capsule_kernel',\n",
    "                                     shape=(1, input_dim_capsule,\n",
    "                                            self.num_capsule * self.dim_capsule),\n",
    "                                     # shape=self.kernel_size,\n",
    "                                     initializer='glorot_uniform',\n",
    "                                     trainable=True)\n",
    "        else:\n",
    "            input_num_capsule = input_shape[-2]\n",
    "            self.W = self.add_weight(name='capsule_kernel',\n",
    "                                     shape=(input_num_capsule,\n",
    "                                            input_dim_capsule,\n",
    "                                            self.num_capsule * self.dim_capsule),\n",
    "                                     initializer='glorot_uniform',\n",
    "                                     trainable=True)\n",
    "\n",
    "    def call(self, u_vecs):\n",
    "        if self.share_weights:\n",
    "            u_hat_vecs = K.conv1d(u_vecs, self.W)\n",
    "        else:\n",
    "            u_hat_vecs = K.local_conv1d(u_vecs, self.W, [1], [1])\n",
    "\n",
    "        batch_size = K.shape(u_vecs)[0]\n",
    "        input_num_capsule = K.shape(u_vecs)[1]\n",
    "        u_hat_vecs = K.reshape(u_hat_vecs, (batch_size, input_num_capsule,\n",
    "                                            self.num_capsule, self.dim_capsule))\n",
    "        u_hat_vecs = K.permute_dimensions(u_hat_vecs, (0, 2, 1, 3))\n",
    "        # final u_hat_vecs.shape = [None, num_capsule, input_num_capsule, dim_capsule]\n",
    "\n",
    "        b = K.zeros_like(u_hat_vecs[:, :, :, 0])  # shape = [None, num_capsule, input_num_capsule]\n",
    "        for i in range(self.routings):\n",
    "            b = K.permute_dimensions(b, (0, 2, 1))  # shape = [None, input_num_capsule, num_capsule]\n",
    "            c = K.softmax(b)\n",
    "            c = K.permute_dimensions(c, (0, 2, 1))\n",
    "            b = K.permute_dimensions(b, (0, 2, 1))\n",
    "            outputs = self.activation(K.batch_dot(c, u_hat_vecs, [2, 2]))\n",
    "            if i < self.routings - 1:\n",
    "                b = K.batch_dot(outputs, u_hat_vecs, [2, 3])\n",
    "\n",
    "        return outputs\n",
    "\n",
    "    def compute_output_shape(self, input_shape):\n",
    "        return (None, self.num_capsule, self.dim_capsule)\n",
    "\n",
    "\n",
    "def get_model():\n",
    "    input1 = Input(shape=(maxlen,))\n",
    "    embed_layer = Embedding(max_features,\n",
    "                            embed_size,\n",
    "                            input_length=maxlen,\n",
    "                            weights=[embedding_matrix],\n",
    "                            trainable=False)(input1)\n",
    "    embed_layer = SpatialDropout1D(rate_drop_dense)(embed_layer)\n",
    "\n",
    "    x = Bidirectional(\n",
    "        GRU(gru_len, activation='relu', dropout=dropout_p, recurrent_dropout=dropout_p, return_sequences=True))(\n",
    "        embed_layer)\n",
    "    capsule = Capsule(num_capsule=Num_capsule, dim_capsule=Dim_capsule, routings=Routings,\n",
    "                      share_weights=True)(x)\n",
    "    # output_capsule = Lambda(lambda x: K.sqrt(K.sum(K.square(x), 2)))(capsule)\n",
    "    capsule = Flatten()(capsule)\n",
    "    capsule = Dropout(dropout_p)(capsule)\n",
    "    output = Dense(6, activation='sigmoid')(capsule)\n",
    "    model = Model(inputs=input1, outputs=output)\n",
    "    model.compile(\n",
    "        loss='binary_crossentropy',\n",
    "        optimizer='adam',\n",
    "        metrics=['binary_accuracy'])\n",
    "    model.summary()\n",
    "    return model\n",
    "\n",
    "model = get_model()"
   ]
  },
  {
   "cell_type": "code",
   "execution_count": 12,
   "metadata": {},
   "outputs": [
    {
     "name": "stderr",
     "output_type": "stream",
     "text": [
      "/Users/isabelmetzger/anaconda3/lib/python3.6/site-packages/sklearn/model_selection/_split.py:2026: FutureWarning: From version 0.21, test_size will always complement train_size unless both are specified.\n",
      "  FutureWarning)\n"
     ]
    },
    {
     "data": {
      "text/plain": [
       "<__main__.RocAucEvaluation at 0x1a19d6f4e0>"
      ]
     },
     "execution_count": 12,
     "metadata": {},
     "output_type": "execute_result"
    }
   ],
   "source": [
    "#X_tra, X_val, y_tra, y_val = train_test_split(x_train, y_train, train_size=0.85, random_state=233)\n",
    "#RocAuc = RocAucEvaluation(validation_data=(X_val, y_val), interval=1)\n",
    "#RocAuc"
   ]
  },
  {
   "cell_type": "code",
   "execution_count": 13,
   "metadata": {},
   "outputs": [
    {
     "name": "stdout",
     "output_type": "stream",
     "text": [
      "Train on 137 samples, validate on 25 samples\n",
      "Epoch 1/1\n",
      "137/137 [==============================] - 3s 22ms/step - loss: 0.7404 - binary_accuracy: 0.4331 - val_loss: 0.6382 - val_binary_accuracy: 0.6533\n"
     ]
    }
   ],
   "source": [
    "batch_size = 256\n",
    "epochs = 4\n",
    "\n",
    "hist = model.fit(X_tra, y_tra, batch_size=batch_size, epochs=1, validation_data=(X_val, y_val), verbose=1)"
   ]
  },
  {
   "cell_type": "code",
   "execution_count": 14,
   "metadata": {},
   "outputs": [
    {
     "name": "stdout",
     "output_type": "stream",
     "text": [
      "Train on 137 samples, validate on 25 samples\n",
      "Epoch 1/4\n",
      "137/137 [==============================] - 1s 8ms/step - loss: 0.6545 - binary_accuracy: 0.6010 - val_loss: 0.6102 - val_binary_accuracy: 0.6600\n",
      "Epoch 2/4\n",
      "137/137 [==============================] - 1s 9ms/step - loss: 0.6202 - binary_accuracy: 0.6557 - val_loss: 0.6053 - val_binary_accuracy: 0.6600\n",
      "Epoch 3/4\n",
      "137/137 [==============================] - 1s 8ms/step - loss: 0.6165 - binary_accuracy: 0.6533 - val_loss: 0.6042 - val_binary_accuracy: 0.6600\n",
      "Epoch 4/4\n",
      "137/137 [==============================] - 1s 8ms/step - loss: 0.6174 - binary_accuracy: 0.6545 - val_loss: 0.6024 - val_binary_accuracy: 0.6600\n",
      "40/40 [==============================] - 0s 10ms/step\n"
     ]
    }
   ],
   "source": [
    "model.fit(X_tra, y_tra, batch_size=batch_size, epochs=epochs, validation_data=(X_val, y_val), verbose=1)\n",
    "\n",
    "y_pred = model.predict(x_test, batch_size=1024, verbose=1)\n"
   ]
  },
  {
   "cell_type": "code",
   "execution_count": 15,
   "metadata": {},
   "outputs": [
    {
     "data": {
      "text/html": [
       "<div>\n",
       "<style scoped>\n",
       "    .dataframe tbody tr th:only-of-type {\n",
       "        vertical-align: middle;\n",
       "    }\n",
       "\n",
       "    .dataframe tbody tr th {\n",
       "        vertical-align: top;\n",
       "    }\n",
       "\n",
       "    .dataframe thead th {\n",
       "        text-align: right;\n",
       "    }\n",
       "</style>\n",
       "<table border=\"1\" class=\"dataframe\">\n",
       "  <thead>\n",
       "    <tr style=\"text-align: right;\">\n",
       "      <th></th>\n",
       "      <th>ABDOMINAL</th>\n",
       "      <th>ADVANCED.CAD</th>\n",
       "      <th>CREATININE</th>\n",
       "      <th>HBA1C</th>\n",
       "      <th>MAJOR.DIABETES</th>\n",
       "      <th>MI.6MOS</th>\n",
       "    </tr>\n",
       "  </thead>\n",
       "  <tbody>\n",
       "    <tr>\n",
       "      <th>0</th>\n",
       "      <td>0.343666</td>\n",
       "      <td>0.627940</td>\n",
       "      <td>0.403582</td>\n",
       "      <td>0.237049</td>\n",
       "      <td>0.662170</td>\n",
       "      <td>0.085365</td>\n",
       "    </tr>\n",
       "    <tr>\n",
       "      <th>1</th>\n",
       "      <td>0.334830</td>\n",
       "      <td>0.641155</td>\n",
       "      <td>0.408596</td>\n",
       "      <td>0.235950</td>\n",
       "      <td>0.659623</td>\n",
       "      <td>0.085893</td>\n",
       "    </tr>\n",
       "    <tr>\n",
       "      <th>2</th>\n",
       "      <td>0.332630</td>\n",
       "      <td>0.635828</td>\n",
       "      <td>0.411987</td>\n",
       "      <td>0.235938</td>\n",
       "      <td>0.661332</td>\n",
       "      <td>0.080346</td>\n",
       "    </tr>\n",
       "    <tr>\n",
       "      <th>3</th>\n",
       "      <td>0.337645</td>\n",
       "      <td>0.606472</td>\n",
       "      <td>0.409643</td>\n",
       "      <td>0.235415</td>\n",
       "      <td>0.654351</td>\n",
       "      <td>0.085237</td>\n",
       "    </tr>\n",
       "    <tr>\n",
       "      <th>4</th>\n",
       "      <td>0.323511</td>\n",
       "      <td>0.646254</td>\n",
       "      <td>0.412110</td>\n",
       "      <td>0.249115</td>\n",
       "      <td>0.649626</td>\n",
       "      <td>0.077680</td>\n",
       "    </tr>\n",
       "  </tbody>\n",
       "</table>\n",
       "</div>"
      ],
      "text/plain": [
       "   ABDOMINAL  ADVANCED.CAD  CREATININE     HBA1C  MAJOR.DIABETES   MI.6MOS\n",
       "0   0.343666      0.627940    0.403582  0.237049        0.662170  0.085365\n",
       "1   0.334830      0.641155    0.408596  0.235950        0.659623  0.085893\n",
       "2   0.332630      0.635828    0.411987  0.235938        0.661332  0.080346\n",
       "3   0.337645      0.606472    0.409643  0.235415        0.654351  0.085237\n",
       "4   0.323511      0.646254    0.412110  0.249115        0.649626  0.077680"
      ]
     },
     "execution_count": 15,
     "metadata": {},
     "output_type": "execute_result"
    }
   ],
   "source": [
    "capsule_net_y_pred_DF = pd.DataFrame(y_pred)\n",
    "#y_pred.to_csv(\"y_predicted_capsule_net.csv\", )\n",
    "capsule_net_y_pred_DF.columns = ['ABDOMINAL', 'ADVANCED.CAD', 'CREATININE', 'HBA1C', 'MAJOR.DIABETES', 'MI.6MOS']\n",
    "capsule_net_y_pred_DF.head()\n",
    "#.to_csv(\"capsue_net_y_pred_DF_April_10_2018.csv\")"
   ]
  },
  {
   "cell_type": "code",
   "execution_count": 16,
   "metadata": {},
   "outputs": [],
   "source": [
    "capsule_net_y_pred_DF.to_csv('capsule_net_y_pred_DF_April_10_2018.csv')"
   ]
  },
  {
   "cell_type": "code",
   "execution_count": null,
   "metadata": {},
   "outputs": [],
   "source": []
  },
  {
   "cell_type": "code",
   "execution_count": null,
   "metadata": {},
   "outputs": [],
   "source": []
  }
 ],
 "metadata": {
  "kernelspec": {
   "display_name": "Python 3",
   "language": "python",
   "name": "python3"
  },
  "language_info": {
   "codemirror_mode": {
    "name": "ipython",
    "version": 3
   },
   "file_extension": ".py",
   "mimetype": "text/x-python",
   "name": "python",
   "nbconvert_exporter": "python",
   "pygments_lexer": "ipython3",
   "version": "3.6.4"
  }
 },
 "nbformat": 4,
 "nbformat_minor": 2
}
